{
 "cells": [
  {
   "cell_type": "code",
   "execution_count": 124,
   "metadata": {},
   "outputs": [],
   "source": [
    "# import libraries\n",
    "import numpy as np\n",
    "import pandas as pd\n",
    "import matplotlib.pyplot as plt\n",
    "%matplotlib inline\n",
    "import glob\n",
    "import random\n",
    "import matplotlib.ticker as ticker"
   ]
  },
  {
   "cell_type": "code",
   "execution_count": 2,
   "metadata": {},
   "outputs": [
    {
     "data": {
      "text/plain": [
       "['C:\\\\Users\\\\Syahrir Ridha\\\\pytorch\\\\recurrent\\\\data\\\\data\\\\names\\\\Arabic.txt',\n",
       " 'C:\\\\Users\\\\Syahrir Ridha\\\\pytorch\\\\recurrent\\\\data\\\\data\\\\names\\\\Chinese.txt',\n",
       " 'C:\\\\Users\\\\Syahrir Ridha\\\\pytorch\\\\recurrent\\\\data\\\\data\\\\names\\\\Czech.txt',\n",
       " 'C:\\\\Users\\\\Syahrir Ridha\\\\pytorch\\\\recurrent\\\\data\\\\data\\\\names\\\\Dutch.txt',\n",
       " 'C:\\\\Users\\\\Syahrir Ridha\\\\pytorch\\\\recurrent\\\\data\\\\data\\\\names\\\\English.txt',\n",
       " 'C:\\\\Users\\\\Syahrir Ridha\\\\pytorch\\\\recurrent\\\\data\\\\data\\\\names\\\\French.txt',\n",
       " 'C:\\\\Users\\\\Syahrir Ridha\\\\pytorch\\\\recurrent\\\\data\\\\data\\\\names\\\\German.txt',\n",
       " 'C:\\\\Users\\\\Syahrir Ridha\\\\pytorch\\\\recurrent\\\\data\\\\data\\\\names\\\\Greek.txt',\n",
       " 'C:\\\\Users\\\\Syahrir Ridha\\\\pytorch\\\\recurrent\\\\data\\\\data\\\\names\\\\Irish.txt',\n",
       " 'C:\\\\Users\\\\Syahrir Ridha\\\\pytorch\\\\recurrent\\\\data\\\\data\\\\names\\\\Italian.txt',\n",
       " 'C:\\\\Users\\\\Syahrir Ridha\\\\pytorch\\\\recurrent\\\\data\\\\data\\\\names\\\\Japanese.txt',\n",
       " 'C:\\\\Users\\\\Syahrir Ridha\\\\pytorch\\\\recurrent\\\\data\\\\data\\\\names\\\\Korean.txt',\n",
       " 'C:\\\\Users\\\\Syahrir Ridha\\\\pytorch\\\\recurrent\\\\data\\\\data\\\\names\\\\Polish.txt',\n",
       " 'C:\\\\Users\\\\Syahrir Ridha\\\\pytorch\\\\recurrent\\\\data\\\\data\\\\names\\\\Portuguese.txt',\n",
       " 'C:\\\\Users\\\\Syahrir Ridha\\\\pytorch\\\\recurrent\\\\data\\\\data\\\\names\\\\Russian.txt',\n",
       " 'C:\\\\Users\\\\Syahrir Ridha\\\\pytorch\\\\recurrent\\\\data\\\\data\\\\names\\\\Scottish.txt',\n",
       " 'C:\\\\Users\\\\Syahrir Ridha\\\\pytorch\\\\recurrent\\\\data\\\\data\\\\names\\\\Spanish.txt',\n",
       " 'C:\\\\Users\\\\Syahrir Ridha\\\\pytorch\\\\recurrent\\\\data\\\\data\\\\names\\\\Vietnamese.txt']"
      ]
     },
     "execution_count": 2,
     "metadata": {},
     "output_type": "execute_result"
    }
   ],
   "source": [
    "# read the data in the file\n",
    "file_data = glob.glob(r'C:\\Users\\Syahrir Ridha\\pytorch\\recurrent\\data\\data\\names\\*.txt')\n",
    "file_data"
   ]
  },
  {
   "cell_type": "code",
   "execution_count": 3,
   "metadata": {},
   "outputs": [
    {
     "name": "stdout",
     "output_type": "stream",
     "text": [
      "Abhishek\n"
     ]
    }
   ],
   "source": [
    "import unicodedata\n",
    "import string\n",
    "\n",
    "all_letters = string.ascii_letters + \",.;'\"\n",
    "n_letters = len(all_letters)\n",
    "\n",
    "# turn a unicode string to plain ASCII\n",
    "def unicode_to_ascii(s):\n",
    "    return ''.join(\n",
    "    c for c in unicodedata.normalize('NFD',s) if unicodedata.category(c) != 'Mn' and c in all_letters\n",
    "    )\n",
    "\n",
    "print(unicode_to_ascii('``Abhishek``'))"
   ]
  },
  {
   "cell_type": "code",
   "execution_count": 4,
   "metadata": {},
   "outputs": [],
   "source": [
    "# build the category line directory, a list of names per languaage\n",
    "category_lines = {}\n",
    "all_category = []\n",
    "\n",
    "# read a file and split into lines\n",
    "def read_lines(filename):\n",
    "    lines = open(filename,encoding='utf8').read().strip().split('\\n')\n",
    "    return [unicode_to_ascii(line) for line in lines]\n",
    "\n",
    "\n",
    "for filename in file_data:\n",
    "    category = filename.split('\\\\')[-1].split('.')[0]\n",
    "    all_category.append(category)\n",
    "    lines = read_lines(filename)\n",
    "    category_lines[category] = lines"
   ]
  },
  {
   "cell_type": "code",
   "execution_count": 5,
   "metadata": {},
   "outputs": [],
   "source": [
    "n_category = len(all_category)"
   ]
  },
  {
   "cell_type": "code",
   "execution_count": 6,
   "metadata": {},
   "outputs": [
    {
     "data": {
      "text/plain": [
       "['Abl', 'Adsit', 'Ajdrna', 'Alt', 'Antonowitsch']"
      ]
     },
     "execution_count": 6,
     "metadata": {},
     "output_type": "execute_result"
    }
   ],
   "source": [
    "category_lines['Czech'][:5]"
   ]
  },
  {
   "cell_type": "code",
   "execution_count": 7,
   "metadata": {},
   "outputs": [
    {
     "data": {
      "text/plain": [
       "56"
      ]
     },
     "execution_count": 7,
     "metadata": {},
     "output_type": "execute_result"
    }
   ],
   "source": [
    "n_letters"
   ]
  },
  {
   "cell_type": "code",
   "execution_count": 8,
   "metadata": {},
   "outputs": [],
   "source": [
    "# covert names into tensors\n",
    "import torch\n",
    "\n",
    "# convert a single letter into 1 x n_letters tensor\n",
    "def letter_to_tensor(letter):\n",
    "    tensor = torch.zeros(1,n_letters)\n",
    "    letter_index = all_letters.find(letter)\n",
    "    tensor[0][letter_index] = 1\n",
    "    return tensor\n",
    "\n",
    "def line_to_tensor(line):\n",
    "    tensor = torch.zeros(len(line),1,n_letters)\n",
    "    for li, letter in enumerate(line):\n",
    "        letter_index = all_letters.find(letter)\n",
    "        tensor[li][0][letter_index] = 1\n",
    "    return tensor"
   ]
  },
  {
   "cell_type": "code",
   "execution_count": 9,
   "metadata": {},
   "outputs": [
    {
     "data": {
      "text/plain": [
       "torch.Size([4, 1, 56])"
      ]
     },
     "execution_count": 9,
     "metadata": {},
     "output_type": "execute_result"
    }
   ],
   "source": [
    "line_to_tensor('Abhi').size()"
   ]
  },
  {
   "cell_type": "code",
   "execution_count": 10,
   "metadata": {},
   "outputs": [],
   "source": [
    "# creating RNN network\n",
    "import torch.nn as nn\n",
    "from torch.autograd import Variable\n",
    "\n",
    "class RNN(nn.Module):\n",
    "    def __init__(self,input_size,hid_size,out_size):\n",
    "        super(RNN,self).__init__()\n",
    "        \n",
    "        self.input_size = input_size\n",
    "        self.hid_size = hid_size\n",
    "        self.out_size = out_size\n",
    "        \n",
    "        self.i2h = nn.Linear(input_size+hid_size,hid_size)\n",
    "        self.h2o = nn.Linear(input_size+hid_size,out_size)\n",
    "        self.softmax = nn.LogSoftmax()\n",
    "        \n",
    "    def forward(self,input,hidden):\n",
    "        combined = torch.cat((input,hidden),1)\n",
    "        hidden = self.i2h(combined)\n",
    "        output = self.h2o(combined)\n",
    "        output = self.softmax(output)\n",
    "        return output, hidden\n",
    "    \n",
    "    def init_hidden(self):\n",
    "        return Variable(torch.zeros(1,self.hid_size))"
   ]
  },
  {
   "cell_type": "code",
   "execution_count": 11,
   "metadata": {},
   "outputs": [],
   "source": [
    "n_hidden = 128\n",
    "rnn = RNN(n_letters,n_hidden,n_category)"
   ]
  },
  {
   "cell_type": "code",
   "execution_count": 12,
   "metadata": {},
   "outputs": [
    {
     "name": "stderr",
     "output_type": "stream",
     "text": [
      "C:\\ProgramData\\Anaconda3\\lib\\site-packages\\ipykernel_launcher.py:21: UserWarning: Implicit dimension choice for log_softmax has been deprecated. Change the call to include dim=X as an argument.\n"
     ]
    },
    {
     "name": "stdout",
     "output_type": "stream",
     "text": [
      "Outsize.size = torch.Size([1, 18])\n"
     ]
    }
   ],
   "source": [
    "input = Variable(letter_to_tensor('b'))\n",
    "hidden = rnn.init_hidden()\n",
    "\n",
    "output, next_hidden = rnn(input,hidden)\n",
    "print('Outsize.size =',output.size())"
   ]
  },
  {
   "cell_type": "code",
   "execution_count": 13,
   "metadata": {},
   "outputs": [
    {
     "name": "stderr",
     "output_type": "stream",
     "text": [
      "C:\\ProgramData\\Anaconda3\\lib\\site-packages\\ipykernel_launcher.py:21: UserWarning: Implicit dimension choice for log_softmax has been deprecated. Change the call to include dim=X as an argument.\n"
     ]
    },
    {
     "data": {
      "text/plain": [
       "tensor([[-2.9104, -2.9061, -2.8920, -2.9137, -2.9688, -2.8257, -2.8854, -2.8190,\n",
       "         -2.9053, -2.8696, -3.0346, -2.9898, -2.8279, -2.8139, -2.9016, -2.9212,\n",
       "         -2.8116, -2.8624]], grad_fn=<LogSoftmaxBackward>)"
      ]
     },
     "execution_count": 13,
     "metadata": {},
     "output_type": "execute_result"
    }
   ],
   "source": [
    "input = Variable(line_to_tensor('Abhishek'))\n",
    "hidden = Variable(torch.zeros(1,n_hidden))\n",
    "output, next_hidden = rnn(input[0],hidden)\n",
    "output"
   ]
  },
  {
   "cell_type": "code",
   "execution_count": 14,
   "metadata": {},
   "outputs": [
    {
     "data": {
      "text/plain": [
       "tensor([17])"
      ]
     },
     "execution_count": 14,
     "metadata": {},
     "output_type": "execute_result"
    }
   ],
   "source": [
    "Variable(torch.LongTensor([all_category.index(category)]))"
   ]
  },
  {
   "cell_type": "code",
   "execution_count": 15,
   "metadata": {},
   "outputs": [
    {
     "name": "stdout",
     "output_type": "stream",
     "text": [
      "Category = French, Name = Eustis\n",
      "Category = Arabic, Name = Masih\n",
      "Category = Polish, Name = Jaskolski\n",
      "Category = Arabic, Name = Harb\n",
      "Category = Irish, Name = O'Byrne\n",
      "Category = Greek, Name = Chrysanthopoulos\n",
      "Category = Russian, Name = Avkhimovitch\n",
      "Category = Spanish, Name = Zapatero\n",
      "Category = Spanish, Name = Sala\n",
      "Category = Japanese, Name = Tsuruya\n"
     ]
    }
   ],
   "source": [
    "def category_from_output(output):\n",
    "    top_n, top_i = output.data.topk(1)\n",
    "    category_i = top_i[0][0]\n",
    "    return all_category[category_i], category_i\n",
    "\n",
    "# randomize the trainning data input\n",
    "#import random\n",
    "def random_train_data():\n",
    "    category = random.choice(all_category)\n",
    "    line = random.choice(category_lines[category])\n",
    "    category_tensor = Variable(torch.LongTensor([all_category.index(category)]))\n",
    "    line_tensor = Variable(line_to_tensor(line))\n",
    "    return category, line, category_tensor, line_tensor\n",
    "\n",
    "for i in range(10):\n",
    "    category, line, category_tensor, line_tensor = random_train_data()\n",
    "    print('Category = {}, Name = {}'.format(category,line))"
   ]
  },
  {
   "cell_type": "code",
   "execution_count": 16,
   "metadata": {},
   "outputs": [],
   "source": [
    "# train a network\n",
    "# define a loss function\n",
    "loss_fn = nn.NLLLoss()\n",
    "learn_rate = 0.01\n",
    "optimizer = torch.optim.SGD(rnn.parameters(),lr=learn_rate)"
   ]
  },
  {
   "cell_type": "code",
   "execution_count": 17,
   "metadata": {},
   "outputs": [],
   "source": [
    "def train(category_tensor, line_tensor):\n",
    "    rnn.zero_grad()\n",
    "    hidden = rnn.init_hidden()\n",
    "    \n",
    "    for i in range(line_tensor.size()[0]):\n",
    "        output,hidden = rnn(line_tensor[i],hidden)\n",
    "    \n",
    "    loss = loss_fn(output,category_tensor)\n",
    "    loss.backward()\n",
    "    optimizer.step()\n",
    "    \n",
    "    return output, loss.data"
   ]
  },
  {
   "cell_type": "code",
   "execution_count": 18,
   "metadata": {},
   "outputs": [
    {
     "name": "stderr",
     "output_type": "stream",
     "text": [
      "C:\\ProgramData\\Anaconda3\\lib\\site-packages\\ipykernel_launcher.py:21: UserWarning: Implicit dimension choice for log_softmax has been deprecated. Change the call to include dim=X as an argument.\n"
     ]
    },
    {
     "name": "stdout",
     "output_type": "stream",
     "text": [
      "5000 5% (0m 12s) 2.0371 Waclauska / Polish ✗ (Czech)\n",
      "10000 10% (0m 25s) 1.1338 Tahan / Arabic ✓\n",
      "15000 15% (0m 38s) 1.3321 Moon / Korean ✓\n",
      "20000 20% (0m 51s) 0.2084 Patselas / Greek ✓\n",
      "25000 25% (1m 4s) 0.3644 Gwang / Korean ✓\n",
      "30000 30% (1m 16s) 0.5632 Yee / Chinese ✓\n",
      "35000 35% (1m 29s) 0.9815 Taku / Japanese ✓\n",
      "40000 40% (1m 42s) 1.5693 Lewerentz / Spanish ✗ (German)\n",
      "45000 45% (1m 54s) 2.2896 Vaca / Vietnamese ✗ (Czech)\n",
      "50000 50% (2m 7s) 0.3568 Ribeiro / Portuguese ✓\n",
      "55000 55% (2m 20s) 2.9507 Ryskamp / Arabic ✗ (Dutch)\n",
      "60000 60% (2m 32s) 4.5487 Zaruba / Arabic ✗ (Czech)\n",
      "65000 65% (2m 45s) 2.1762 Pegg / German ✗ (English)\n",
      "70000 70% (2m 58s) 2.2921 Bradach / Czech ✗ (Irish)\n",
      "75000 75% (3m 11s) 1.9543 Kollen / German ✗ (Dutch)\n",
      "80000 80% (3m 23s) 0.7116 O'Hara / Irish ✓\n",
      "85000 85% (3m 36s) 1.6557 Atiyeh / Russian ✗ (Arabic)\n",
      "90000 90% (3m 49s) 2.8723 Winograd / Arabic ✗ (Polish)\n",
      "95000 95% (4m 2s) 1.9166 Ventimiglia / Greek ✗ (Italian)\n"
     ]
    }
   ],
   "source": [
    "import time\n",
    "import math\n",
    "\n",
    "n_epochs = 100000\n",
    "print_every = 5000\n",
    "plot_every = 1000\n",
    "\n",
    "\n",
    "# keep track of all the loss\n",
    "current_loss = 0\n",
    "all_loss = []\n",
    "\n",
    "def time_since(since):\n",
    "    now = time.time()\n",
    "    s = now - since\n",
    "    m = math.floor(s/60)\n",
    "    s -= m*60\n",
    "    return '%dm %ds' %(m,s)\n",
    "\n",
    "start = time.time()\n",
    "\n",
    "for epoch in range(1,n_epochs):\n",
    "    category, line, category_tensor, line_tensor = random_train_data()\n",
    "    output,loss = train(category_tensor,line_tensor)\n",
    "    current_loss += loss\n",
    "    \n",
    "    # print epoch number , name and guess\n",
    "    if epoch%print_every ==0:\n",
    "        guess, guess_i = category_from_output(output)\n",
    "        correct = '✓' if guess==category else '✗ (%s)' %category \n",
    "        print('%d %d%% (%s) %.4f %s / %s %s'%(epoch,epoch/n_epochs*100,time_since(start),loss,line,guess,correct))\n",
    "        \n",
    "    # add current loss avg to a list of losses\n",
    "    if epoch%plot_every ==0:\n",
    "        all_loss.append(current_loss/plot_every)\n",
    "        current_loss = 0"
   ]
  },
  {
   "cell_type": "code",
   "execution_count": 19,
   "metadata": {},
   "outputs": [
    {
     "data": {
      "text/plain": [
       "[<matplotlib.lines.Line2D at 0x289277bce08>]"
      ]
     },
     "execution_count": 19,
     "metadata": {},
     "output_type": "execute_result"
    },
    {
     "data": {
      "image/png": "[encoded data removed]",
      "text/plain": [
       "<Figure size 432x288 with 1 Axes>"
      ]
     },
     "metadata": {
      "needs_background": "light"
     },
     "output_type": "display_data"
    }
   ],
   "source": [
    "plt.plot(all_loss)"
   ]
  },
  {
   "cell_type": "code",
   "execution_count": 20,
   "metadata": {},
   "outputs": [],
   "source": [
    "##########################################################################\n",
    "################## Implementing the RNN pytorch package ##################\n",
    "##########################################################################"
   ]
  },
  {
   "cell_type": "code",
   "execution_count": 58,
   "metadata": {},
   "outputs": [],
   "source": [
    "# define pytorch recurrent network\n",
    "class NameRNN(nn.Module):\n",
    "    def __init__(self,in_dim,hid_dim,out_dim,n_layer):\n",
    "        super(NameRNN,self).__init__()\n",
    "        self.in_dim = in_dim\n",
    "        self.hid_dim = hid_dim\n",
    "        self.out_dim = out_dim\n",
    "        self.layer = n_layer\n",
    "        \n",
    "        # define the RNN layers\n",
    "        self.rnn = nn.RNN(in_dim,hid_dim,n_layer,batch_first=True,nonlinearity='relu')\n",
    "        \n",
    "        # fully connected layer\n",
    "        self.final = nn.Linear(hid_dim,out_dim)\n",
    "        \n",
    "        # softmax layer\n",
    "        self.softmax = nn.LogSoftmax()\n",
    "        \n",
    "        \n",
    "    def forward(self,x):\n",
    "        \n",
    "        batch_size = x.size(0)\n",
    "        \n",
    "        # initialize the hidden layer for first input\n",
    "        hidden = self.init_hidden(batch_size)\n",
    "        \n",
    "        # passing in the iput and hidden state into model and get output\n",
    "        out, hidden = self.rnn(x,hidden)\n",
    "        \n",
    "        # reshaping the output to fit into fully connected layers\n",
    "        out = out.contiguous().view(-1,self.hid_dim)\n",
    "        out = self.final(out)\n",
    "        out = self.softmax(out)\n",
    "        return out, hidden\n",
    "    \n",
    "    def init_hidden(self,batch_size):\n",
    "        return torch.zeros(self.layer,batch_size,self.hid_dim)"
   ]
  },
  {
   "cell_type": "code",
   "execution_count": 66,
   "metadata": {},
   "outputs": [],
   "source": [
    "# RNN Variables\n",
    "in_hid = n_letters\n",
    "hid_dim = 30\n",
    "layer_num = 2\n",
    "out_dim = n_category\n",
    "\n",
    "# define the model\n",
    "rnn_model = NameRNN(in_hid,out_dim,hid_dim,layer_num)\n",
    "\n",
    "loss_fn = nn.NLLLoss()\n",
    "learn_rate = 0.01\n",
    "optimizer = torch.optim.SGD(rnn_model.parameters(),lr=learn_rate)"
   ]
  },
  {
   "cell_type": "code",
   "execution_count": 67,
   "metadata": {},
   "outputs": [
    {
     "name": "stderr",
     "output_type": "stream",
     "text": [
      "C:\\ProgramData\\Anaconda3\\lib\\site-packages\\ipykernel_launcher.py:33: UserWarning: Implicit dimension choice for log_softmax has been deprecated. Change the call to include dim=X as an argument.\n"
     ]
    },
    {
     "data": {
      "text/plain": [
       "(tensor([[-3.2255, -3.3949, -3.3813, -3.3591, -3.4650, -3.6755, -3.1769, -3.2556,\n",
       "          -3.5007, -3.5710, -3.3515, -3.1142, -3.4969, -3.6678, -3.2503, -3.6037,\n",
       "          -3.4557, -3.6006, -3.3730, -3.6471, -3.4796, -3.2971, -3.4535, -3.2871,\n",
       "          -3.4906, -3.5161, -3.5623, -3.0863, -3.2490, -3.4288]],\n",
       "        grad_fn=<LogSoftmaxBackward>),\n",
       " tensor([[[0.0000, 0.2917, 0.2844, 0.0000, 0.0443, 0.0000, 0.0000, 0.0847,\n",
       "           0.0597, 0.0236, 0.2027, 0.0678, 0.1048, 0.0249, 0.3074, 0.1491,\n",
       "           0.0000, 0.2665]],\n",
       " \n",
       "         [[0.0000, 0.0105, 0.0000, 0.0400, 0.1196, 0.1964, 0.0000, 0.2134,\n",
       "           0.1341, 0.0000, 0.0617, 0.3458, 0.0000, 0.0772, 0.1914, 0.1955,\n",
       "           0.0000, 0.0000]]], grad_fn=<StackBackward>))"
      ]
     },
     "execution_count": 67,
     "metadata": {},
     "output_type": "execute_result"
    }
   ],
   "source": [
    "rnn_model(line_to_tensor('A'))"
   ]
  },
  {
   "cell_type": "code",
   "execution_count": 68,
   "metadata": {},
   "outputs": [
    {
     "name": "stderr",
     "output_type": "stream",
     "text": [
      "C:\\ProgramData\\Anaconda3\\lib\\site-packages\\ipykernel_launcher.py:33: UserWarning: Implicit dimension choice for log_softmax has been deprecated. Change the call to include dim=X as an argument.\n"
     ]
    },
    {
     "name": "stdout",
     "output_type": "stream",
     "text": [
      "5000 5% (0m 11s) 2.7673 Abdurahmanov / Korean ✗ (Russian)\n",
      "10000 10% (0m 22s) 2.5907 Lambert / Dutch ✗ (French)\n",
      "15000 15% (0m 34s) 3.1709 Middlesworth / Irish ✗ (Dutch)\n",
      "20000 20% (0m 46s) 2.5277 Murray / Irish ✗ (Scottish)\n",
      "25000 25% (0m 59s) 2.6986 Partridge / French ✗ (English)\n",
      "30000 30% (1m 10s) 2.5936 Elenin / Korean ✗ (Russian)\n",
      "35000 35% (1m 22s) 2.0922 Bahar / German ✗ (Arabic)\n",
      "40000 40% (1m 33s) 1.0652 Horiatis / Greek ✓\n",
      "45000 45% (1m 44s) 4.1156 Kalogeria / Japanese ✗ (Greek)\n",
      "50000 50% (1m 55s) 2.8638 La / Japanese ✗ (Vietnamese)\n",
      "55000 55% (2m 5s) 2.4724 Line / French ✗ (English)\n",
      "60000 60% (2m 16s) 1.6469 Crossland / English ✓\n",
      "65000 65% (2m 27s) 1.7941 Costa / Japanese ✗ (Portuguese)\n",
      "70000 70% (2m 38s) 2.8624 Lebeau / Vietnamese ✗ (French)\n",
      "75000 75% (2m 49s) 3.1794 Naifeh / Vietnamese ✗ (Arabic)\n",
      "80000 80% (3m 0s) 1.3127 Schroder / German ✓\n",
      "85000 85% (3m 11s) 3.0445 Robins / Greek ✗ (English)\n",
      "90000 90% (3m 22s) 1.7852 Raghailligh / Russian ✗ (Irish)\n",
      "95000 95% (3m 34s) 1.1329 Klossner / German ✓\n"
     ]
    }
   ],
   "source": [
    "def RNN_train(category_tensor, line_tensor):\n",
    "    optimizer.zero_grad()\n",
    "    #hidden = rnn_model.init_hidden()\n",
    "    \n",
    "    for i in range(line_tensor.size()[0]):\n",
    "        output,hidden = rnn_model(line_tensor[i].view(-1,1,56))\n",
    "    \n",
    "    loss = loss_fn(output,category_tensor)\n",
    "    loss.backward()\n",
    "    optimizer.step()\n",
    "    \n",
    "    return output, loss.data\n",
    "\n",
    "start = time.time()\n",
    "current_loss = 0\n",
    "all_loss = []\n",
    "\n",
    "for epoch in range(1,n_epochs):\n",
    "    category, line, category_tensor, line_tensor = random_train_data()\n",
    "    output,loss = RNN_train(category_tensor,line_tensor)\n",
    "    current_loss += loss\n",
    "    \n",
    "    # print epoch number , name and guess\n",
    "    if epoch%print_every ==0:\n",
    "        guess, guess_i = category_from_output(output)\n",
    "        correct = '✓' if guess==category else '✗ (%s)' %category \n",
    "        print('%d %d%% (%s) %.4f %s / %s %s'%(epoch,epoch/n_epochs*100,time_since(start),loss,line,guess,correct))\n",
    "        \n",
    "    # add current loss avg to a list of losses\n",
    "    if epoch%plot_every ==0:\n",
    "        all_loss.append(current_loss/plot_every)\n",
    "        current_loss = 0\n"
   ]
  },
  {
   "cell_type": "code",
   "execution_count": 70,
   "metadata": {},
   "outputs": [
    {
     "data": {
      "text/plain": [
       "[<matplotlib.lines.Line2D at 0x28928baf3c8>]"
      ]
     },
     "execution_count": 70,
     "metadata": {},
     "output_type": "execute_result"
    },
    {
     "data": {
      "image/png": "[encoded data removed]",
      "text/plain": [
       "<Figure size 432x288 with 1 Axes>"
      ]
     },
     "metadata": {
      "needs_background": "light"
     },
     "output_type": "display_data"
    }
   ],
   "source": [
    "plt.plot(all_loss)"
   ]
  },
  {
   "cell_type": "code",
   "execution_count": 71,
   "metadata": {},
   "outputs": [],
   "source": [
    "##########################################################################\n",
    "################## Implementing the LSTM pytorch package ##################\n",
    "##########################################################################"
   ]
  },
  {
   "cell_type": "code",
   "execution_count": 146,
   "metadata": {},
   "outputs": [],
   "source": [
    "class LSTM(nn.Module):\n",
    "    def __init__(self,in_dim,hid_dim,out_dim,num_layer):\n",
    "        super(LSTM,self).__init__()\n",
    "        \n",
    "        self.in_dim, self.hid_dim, self.out_dim, self.layer = in_dim,hid_dim,out_dim,num_layer\n",
    "        \n",
    "        # LSTM\n",
    "        self.lstm = nn.LSTM(in_dim,hid_dim,num_layer,batch_first=True)\n",
    "        \n",
    "        # final layer \n",
    "        self.final = nn.Linear(hid_dim,out_dim)\n",
    "        \n",
    "        # softmax layer\n",
    "        self.softmax = nn.LogSoftmax()\n",
    "        \n",
    "    def forward(self,x):\n",
    "        \n",
    "        # initialize the hidden state\n",
    "        h0 = Variable(torch.zeros(self.layer,x.size(0),self.hid_dim))\n",
    "        c0 = Variable(torch.zeros(self.layer,x.size(0),self.hid_dim))\n",
    "        \n",
    "        # process the output\n",
    "        output, (hn,cn) = self.lstm(x,(h0,c0))\n",
    "        \n",
    "        # reshaping the output to fit into fully connected linear layer\n",
    "        output = output.contiguous().view(-1,self.hid_dim)\n",
    "        output = self.final(output)\n",
    "        output = self.softmax(output)\n",
    "        return output"
   ]
  },
  {
   "cell_type": "code",
   "execution_count": 147,
   "metadata": {},
   "outputs": [],
   "source": [
    "# lstm Variables\n",
    "in_hid = n_letters\n",
    "hid_dim = 60\n",
    "layer_num = 1\n",
    "out_dim = n_category\n",
    "\n",
    "# define the model\n",
    "lstm = LSTM(in_hid,hid_dim,out_dim,layer_num)\n",
    "\n",
    "loss_fn = nn.NLLLoss()\n",
    "learn_rate = 0.01\n",
    "optimizer = torch.optim.SGD(lstm.parameters(),lr=learn_rate)"
   ]
  },
  {
   "cell_type": "code",
   "execution_count": 148,
   "metadata": {},
   "outputs": [
    {
     "name": "stderr",
     "output_type": "stream",
     "text": [
      "C:\\ProgramData\\Anaconda3\\lib\\site-packages\\ipykernel_launcher.py:28: UserWarning: Implicit dimension choice for log_softmax has been deprecated. Change the call to include dim=X as an argument.\n"
     ]
    },
    {
     "data": {
      "text/plain": [
       "tensor([[-2.9623, -3.0415, -2.9963, -2.8254, -2.8879, -2.8997, -2.8010, -2.8192,\n",
       "         -2.8283, -2.9988, -2.8019, -2.8553, -2.9779, -2.9082, -2.7902, -3.0047,\n",
       "         -2.7494, -2.9461]], grad_fn=<LogSoftmaxBackward>)"
      ]
     },
     "execution_count": 148,
     "metadata": {},
     "output_type": "execute_result"
    }
   ],
   "source": [
    "lstm(line_to_tensor('A'))"
   ]
  },
  {
   "cell_type": "code",
   "execution_count": 149,
   "metadata": {},
   "outputs": [
    {
     "name": "stderr",
     "output_type": "stream",
     "text": [
      "C:\\ProgramData\\Anaconda3\\lib\\site-packages\\ipykernel_launcher.py:28: UserWarning: Implicit dimension choice for log_softmax has been deprecated. Change the call to include dim=X as an argument.\n"
     ]
    },
    {
     "name": "stdout",
     "output_type": "stream",
     "text": [
      "5000 5% (0m 15s) 2.9021 Shirasu / Polish ✗ (Japanese)\n",
      "10000 10% (0m 31s) 2.7845 Esteves / Greek ✗ (Portuguese)\n",
      "15000 15% (0m 47s) 1.7400 Sklavenitis / Greek ✓\n",
      "20000 20% (1m 3s) 0.9923 Stamatas / Greek ✓\n",
      "25000 25% (1m 19s) 0.8227 Vassilopulos / Greek ✓\n",
      "30000 30% (1m 35s) 0.9184 Stamatas / Greek ✓\n",
      "35000 35% (1m 51s) 0.3610 Glazunov / Russian ✓\n",
      "40000 40% (2m 7s) 0.9604 Papoutsis / Greek ✓\n",
      "45000 45% (2m 24s) 2.2738 Beatty / Irish ✗ (English)\n",
      "50000 50% (2m 40s) 1.9665 Mackay / Irish ✗ (Scottish)\n",
      "55000 55% (2m 56s) 2.0722 Vanwell / Czech ✗ (English)\n",
      "60000 60% (3m 12s) 2.4579 Hojo / Portuguese ✗ (Japanese)\n",
      "65000 65% (3m 28s) 2.4923 Exon / Korean ✗ (English)\n",
      "70000 70% (3m 45s) 1.1565 Yong / Chinese ✓\n",
      "75000 75% (4m 1s) 0.0470 Hamatov / Russian ✓\n",
      "80000 80% (4m 17s) 4.0242 Clark / Polish ✗ (Irish)\n",
      "85000 85% (4m 33s) 1.3130 Fung / Chinese ✓\n",
      "90000 90% (4m 49s) 1.5025 Fenstermacher / German ✓\n",
      "95000 95% (5m 5s) 1.7098 Saeki / Italian ✗ (Japanese)\n"
     ]
    }
   ],
   "source": [
    "def lstm_train(category_tensor, line_tensor):\n",
    "    optimizer.zero_grad()\n",
    "    #hidden = rnn_model.init_hidden()\n",
    "    \n",
    "    for i in range(line_tensor.size()[0]):\n",
    "        output = lstm(line_tensor[i].view(-1,1,56))\n",
    "    \n",
    "    loss = loss_fn(output,category_tensor)\n",
    "    loss.backward()\n",
    "    optimizer.step()\n",
    "    \n",
    "    return output, loss.data\n",
    "\n",
    "start = time.time()\n",
    "current_loss = 0\n",
    "all_loss = []\n",
    "\n",
    "for epoch in range(1,n_epochs):\n",
    "    category, line, category_tensor, line_tensor = random_train_data()\n",
    "    output,loss = lstm_train(category_tensor,line_tensor)\n",
    "    current_loss += loss\n",
    "    \n",
    "    # print epoch number , name and guess\n",
    "    if epoch%print_every ==0:\n",
    "        guess, guess_i = category_from_output(output)\n",
    "        correct = '✓' if guess==category else '✗ (%s)' %category \n",
    "        print('%d %d%% (%s) %.4f %s / %s %s'%(epoch,epoch/n_epochs*100,time_since(start),loss,line,guess,correct))\n",
    "        \n",
    "    # add current loss avg to a list of losses\n",
    "    if epoch%plot_every ==0:\n",
    "        all_loss.append(current_loss/plot_every)\n",
    "        current_loss = 0"
   ]
  },
  {
   "cell_type": "code",
   "execution_count": 150,
   "metadata": {},
   "outputs": [
    {
     "data": {
      "text/plain": [
       "[<matplotlib.lines.Line2D at 0x2892a39efc8>]"
      ]
     },
     "execution_count": 150,
     "metadata": {},
     "output_type": "execute_result"
    },
    {
     "data": {
      "image/png": "[encoded data removed]",
      "text/plain": [
       "<Figure size 432x288 with 1 Axes>"
      ]
     },
     "metadata": {
      "needs_background": "light"
     },
     "output_type": "display_data"
    }
   ],
   "source": [
    "plt.plot(all_loss)"
   ]
  },
  {
   "cell_type": "code",
   "execution_count": 122,
   "metadata": {},
   "outputs": [],
   "source": [
    "##########################################################################\n",
    "##################    Evaluate the Predicted Results   ##################\n",
    "##########################################################################"
   ]
  },
  {
   "cell_type": "code",
   "execution_count": 138,
   "metadata": {},
   "outputs": [
    {
     "name": "stderr",
     "output_type": "stream",
     "text": [
      "C:\\ProgramData\\Anaconda3\\lib\\site-packages\\ipykernel_launcher.py:33: UserWarning: Implicit dimension choice for log_softmax has been deprecated. Change the call to include dim=X as an argument.\n"
     ]
    },
    {
     "data": {
      "image/png": "[encoded data removed]",
      "text/plain": [
       "<Figure size 432x288 with 2 Axes>"
      ]
     },
     "metadata": {
      "needs_background": "light"
     },
     "output_type": "display_data"
    }
   ],
   "source": [
    "# plot a confusio matrix\n",
    "confusion = torch.zeros(n_category,n_category)\n",
    "n_confusion = 1000\n",
    "\n",
    "# return a output given a name\n",
    "def evaluate(line_tensor,model):\n",
    "    \n",
    "    for i in range(line_tensor.size()[0]):\n",
    "        output, hidden = model(line_tensor)\n",
    "    return output\n",
    "\n",
    "# go through a biunch of examples and record which are correctly guessed\n",
    "\n",
    "for i in range(n_confusion):\n",
    "    category, line, category_tensor, line_tensor = random_train_data()\n",
    "    output = evaluate(line_tensor,rnn_model)\n",
    "    guess, guess_i = category_from_output(output)\n",
    "    category_i = all_category.index(category)\n",
    "    confusion[category_i][guess_i] += 1\n",
    "    \n",
    "for i in range(n_category):\n",
    "    confusion[i] = confusion[i]/confusion[i].sum()\n",
    "    \n",
    "fig = plt.figure()\n",
    "ax = fig.add_subplot(111)\n",
    "cax = ax.matshow(confusion.numpy())\n",
    "fig.colorbar(cax)\n",
    "\n",
    "ax.set_xticklabels(['']+all_category,rotation=90)\n",
    "ax.set_yticklabels(['']+all_category)\n",
    "\n",
    "ax.xaxis.set_major_locator(ticker.MultipleLocator(1))\n",
    "ax.yaxis.set_major_locator(ticker.MultipleLocator(1))"
   ]
  },
  {
   "cell_type": "code",
   "execution_count": 151,
   "metadata": {},
   "outputs": [
    {
     "name": "stderr",
     "output_type": "stream",
     "text": [
      "C:\\ProgramData\\Anaconda3\\lib\\site-packages\\ipykernel_launcher.py:28: UserWarning: Implicit dimension choice for log_softmax has been deprecated. Change the call to include dim=X as an argument.\n"
     ]
    },
    {
     "data": {
      "image/png": "[encoded data removed]",
      "text/plain": [
       "<Figure size 432x288 with 2 Axes>"
      ]
     },
     "metadata": {
      "needs_background": "light"
     },
     "output_type": "display_data"
    }
   ],
   "source": [
    "# plot a confusio matrix for LSTM\n",
    "confusion = torch.zeros(n_category,n_category)\n",
    "n_confusion = 1000\n",
    "\n",
    "# return a output given a name\n",
    "def evaluate(line_tensor,model):\n",
    "    \n",
    "    for i in range(line_tensor.size()[0]):\n",
    "        output = model(line_tensor)\n",
    "    return output\n",
    "\n",
    "# go through a biunch of examples and record which are correctly guessed\n",
    "\n",
    "for i in range(n_confusion):\n",
    "    category, line, category_tensor, line_tensor = random_train_data()\n",
    "    output = evaluate(line_tensor,lstm)\n",
    "    guess, guess_i = category_from_output(output)\n",
    "    category_i = all_category.index(category)\n",
    "    confusion[category_i][guess_i] += 1\n",
    "    \n",
    "for i in range(n_category):\n",
    "    confusion[i] = confusion[i]/confusion[i].sum()\n",
    "    \n",
    "fig = plt.figure()\n",
    "ax = fig.add_subplot(111)\n",
    "cax = ax.matshow(confusion.numpy())\n",
    "fig.colorbar(cax)\n",
    "\n",
    "ax.set_xticklabels(['']+all_category,rotation=90)\n",
    "ax.set_yticklabels(['']+all_category)\n",
    "\n",
    "ax.xaxis.set_major_locator(ticker.MultipleLocator(1))\n",
    "ax.yaxis.set_major_locator(ticker.MultipleLocator(1))"
   ]
  },
  {
   "cell_type": "code",
   "execution_count": null,
   "metadata": {},
   "outputs": [],
   "source": []
  }
 ],
 "metadata": {
  "kernelspec": {
   "display_name": "Python 3",
   "language": "python",
   "name": "python3"
  },
  "language_info": {
   "codemirror_mode": {
    "name": "ipython",
    "version": 3
   },
   "file_extension": ".py",
   "mimetype": "text/x-python",
   "name": "python",
   "nbconvert_exporter": "python",
   "pygments_lexer": "ipython3",
   "version": "3.7.4"
  }
 },
 "nbformat": 4,
 "nbformat_minor": 4
}
