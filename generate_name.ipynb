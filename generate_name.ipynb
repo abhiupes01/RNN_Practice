{
 "cells": [
  {
   "cell_type": "code",
   "execution_count": 1,
   "metadata": {},
   "outputs": [
    {
     "name": "stdout",
     "output_type": "stream",
     "text": [
      "Abhi\n"
     ]
    }
   ],
   "source": [
    "import glob\n",
    "import unicodedata\n",
    "import string\n",
    "\n",
    "all_letters = string.ascii_letters+\",.;'-\"\n",
    "n_letters = len(all_letters)\n",
    "EOS = n_letters-1\n",
    "\n",
    "# turn the unicode string to plain ASCII \n",
    "def unicode_to_ascii(s):\n",
    "    return ''.join(c for c in unicodedata.normalize('NFD',s) if unicodedata.category(c)!='Mn' and c in all_letters)\n",
    "\n",
    "print(unicode_to_ascii('~`Abhi'))"
   ]
  },
  {
   "cell_type": "code",
   "execution_count": 2,
   "metadata": {},
   "outputs": [
    {
     "name": "stdout",
     "output_type": "stream",
     "text": [
      "Category: 18 ['Arabic', 'Chinese', 'Czech', 'Dutch', 'English', 'French', 'German', 'Greek', 'Irish', 'Italian', 'Japanese', 'Korean', 'Polish', 'Portuguese', 'Russian', 'Scottish', 'Spanish', 'Vietnamese']\n"
     ]
    }
   ],
   "source": [
    "# read a file and split it into lines\n",
    "def read_lines(filename):\n",
    "    lines = open(filename,encoding='utf8').read().strip().split('\\n')\n",
    "    return [unicode_to_ascii(line) for line in lines]\n",
    "\n",
    "# build the category lines dictonary, a list of lines per category\n",
    "category_lines = {}\n",
    "all_category = []\n",
    "\n",
    "for filename in glob.glob(r'C:\\Users\\Syahrir Ridha\\pytorch\\recurrent\\data\\data\\names\\*.txt'):\n",
    "    category = filename.split('\\\\')[-1].split('.')[0]\n",
    "    all_category.append(category)\n",
    "    lines = read_lines(filename)\n",
    "    category_lines[category] = lines\n",
    "    \n",
    "n_category = len(all_category)\n",
    "print('Category: {} {}'.format(n_category, all_category))"
   ]
  },
  {
   "cell_type": "code",
   "execution_count": 3,
   "metadata": {},
   "outputs": [
    {
     "data": {
      "text/plain": [
       "['Khoury', 'Nahas', 'Daher', 'Gerges', 'Nazari']"
      ]
     },
     "execution_count": 3,
     "metadata": {},
     "output_type": "execute_result"
    }
   ],
   "source": [
    "category_lines['Arabic'][:5]"
   ]
  },
  {
   "cell_type": "code",
   "execution_count": 4,
   "metadata": {},
   "outputs": [],
   "source": [
    "import torch\n",
    "import torch.nn as nn\n",
    "from torch.autograd import Variable\n",
    "\n",
    "class RNN(nn.Module):\n",
    "    def __init__(self,input_size, hidden_size,out_size, n_layer):\n",
    "        super(RNN,self).__init__()\n",
    "        self.input_size, self.hidden_size, self.out_size, self.layers = input_size, hidden_size,out_size, n_layer\n",
    "        \n",
    "        ## define different layers\n",
    "        self.i2h = nn.Linear(n_category+input_size+hidden_size,hidden_size)\n",
    "        self.i2o = nn.Linear(n_category+input_size+hidden_size,out_size)\n",
    "        self.o2o = nn.Linear(hidden_size+out_size,out_size)\n",
    "        self.softmax = nn.LogSoftmax(dim=1)\n",
    "        \n",
    "    def forward(self,x,category,hidden):\n",
    "        input_combined = torch.cat((category,x,hidden),1)\n",
    "        hidden = self.i2h(input_combined)\n",
    "        output = self.i2o(input_combined)\n",
    "        output_combined = torch.cat((hidden,output),1)\n",
    "        output = self.o2o(output_combined)\n",
    "        output = self.softmax(output)\n",
    "        return output, hidden\n",
    "    \n",
    "    def init_hidden(self):\n",
    "        return Variable(torch.zeros(1,self.hidden_size))"
   ]
  },
  {
   "cell_type": "code",
   "execution_count": 5,
   "metadata": {},
   "outputs": [],
   "source": [
    "# create random training function\n",
    "import random\n",
    "\n",
    "def random_train():\n",
    "    category = random.choice(all_category)\n",
    "    line = random.choice(category_lines[category])\n",
    "    return category, line"
   ]
  },
  {
   "cell_type": "code",
   "execution_count": 6,
   "metadata": {},
   "outputs": [
    {
     "data": {
      "text/plain": [
       "torch.Size([1, 18])"
      ]
     },
     "execution_count": 6,
     "metadata": {},
     "output_type": "execute_result"
    }
   ],
   "source": [
    "torch.zeros(1,n_category).shape"
   ]
  },
  {
   "cell_type": "code",
   "execution_count": 7,
   "metadata": {},
   "outputs": [],
   "source": [
    "# one hot vector for category\n",
    "def make_category_input(category):\n",
    "    li = all_category.index(category)\n",
    "    tensor = torch.zeros(1,n_category)\n",
    "    tensor[0][li] = 1\n",
    "    return tensor\n",
    "\n",
    "# one hot matrix for first to last letters (not including EOS) for input\n",
    "def make_char_input(chars):\n",
    "    tensor = torch.zeros(len(chars),n_letters)\n",
    "    for ci in range(len(chars)):\n",
    "        char = chars[ci]\n",
    "        tensor[ci][all_letters.find(char)] =1\n",
    "    tensor = tensor.view(-1,1,n_letters)\n",
    "    return Variable(tensor)\n",
    "\n",
    "# log tensor of second letter to end (EOS) for target\n",
    "def make_target(line):\n",
    "    letter_indexes = [all_letters.find(line[i]) for i in range(1,len(line))]\n",
    "    letter_indexes.append(n_letters-1) # EOS\n",
    "    tensor = torch.LongTensor(letter_indexes)\n",
    "    return tensor"
   ]
  },
  {
   "cell_type": "code",
   "execution_count": 8,
   "metadata": {},
   "outputs": [],
   "source": [
    "def random_training_set():\n",
    "    category, line = random_train()\n",
    "    category_input = make_category_input(category)\n",
    "    line_input = make_char_input(line)\n",
    "    line_target = make_target(line)\n",
    "    return category_input, line_input, line_target"
   ]
  },
  {
   "cell_type": "code",
   "execution_count": 9,
   "metadata": {},
   "outputs": [],
   "source": [
    "def train(category_tensor,input_line_tensor,target_line_tensor):\n",
    "    hidden = rnn.init_hidden()\n",
    "    optimizer.zero_grad()\n",
    "    target_line_tensor.unsqueeze_(-1)\n",
    "    loss = 0\n",
    "    \n",
    "    for i in range(input_line_tensor.size()[0]):\n",
    "        output, hidden = rnn(category_tensor,input_line_tensor[i],hidden)\n",
    "        loss += error(output,target_line_tensor[i])\n",
    "        \n",
    "        \n",
    "    loss.backward()\n",
    "    optimizer.step()\n",
    "    \n",
    "    return output, loss.data/input_line_tensor.size()[0]"
   ]
  },
  {
   "cell_type": "code",
   "execution_count": 10,
   "metadata": {},
   "outputs": [],
   "source": [
    "import time\n",
    "import math\n",
    "\n",
    "def time_since(start):\n",
    "    now = time.time()\n",
    "    s = now - start\n",
    "    m = math.floor(s/60)\n",
    "    s -= m*60\n",
    "    return '%dm %ds'%(m,s)"
   ]
  },
  {
   "cell_type": "code",
   "execution_count": 12,
   "metadata": {},
   "outputs": [
    {
     "name": "stdout",
     "output_type": "stream",
     "text": [
      "0m 30s (5000 5%) 2.0803\n",
      "1m 4s (10000 10%) 2.2860\n",
      "1m 36s (15000 15%) 2.5920\n",
      "2m 8s (20000 20%) 1.8771\n",
      "2m 40s (25000 25%) 2.7390\n",
      "3m 13s (30000 30%) 2.6954\n",
      "3m 45s (35000 35%) 2.3546\n",
      "4m 17s (40000 40%) 0.9341\n",
      "4m 49s (45000 45%) 1.7235\n",
      "5m 21s (50000 50%) 1.4522\n",
      "5m 51s (55000 55%) 0.8464\n",
      "6m 22s (60000 60%) 2.8223\n",
      "6m 54s (65000 65%) 1.4396\n",
      "7m 25s (70000 70%) 2.7842\n",
      "7m 57s (75000 75%) 2.1764\n",
      "8m 29s (80000 80%) 1.5354\n",
      "9m 1s (85000 85%) 1.7046\n",
      "9m 33s (90000 90%) 1.7686\n",
      "10m 6s (95000 95%) 1.7524\n",
      "10m 38s (100000 100%) 1.5591\n"
     ]
    }
   ],
   "source": [
    "n_epochs = 100000\n",
    "print_every = 5000\n",
    "plot_every = 500\n",
    "all_losses = []\n",
    "loss_avg = 0\n",
    "learning_rate = 0.0005\n",
    "\n",
    "# start model\n",
    "rnn = RNN(n_letters,128,n_letters,1)\n",
    "optimizer = torch.optim.Adam(rnn.parameters(),lr=learning_rate)\n",
    "error = nn.NLLLoss()\n",
    "\n",
    "start_time = time.time()\n",
    "\n",
    "for epoch in range(1,n_epochs+1):\n",
    "    output,loss = train(*random_training_set())\n",
    "    loss_avg += loss\n",
    "    \n",
    "    if epoch%print_every ==0:\n",
    "        print('%s (%d %d%%) %.4f'%(time_since(start_time),epoch,epoch/n_epochs*100,loss))\n",
    "        \n",
    "    if epoch % plot_every==0:\n",
    "        all_losses.append(loss_avg/plot_every)\n",
    "        loss_avg =0"
   ]
  },
  {
   "cell_type": "code",
   "execution_count": 16,
   "metadata": {},
   "outputs": [
    {
     "data": {
      "text/plain": [
       "[<matplotlib.lines.Line2D at 0x2135f730508>]"
      ]
     },
     "execution_count": 16,
     "metadata": {},
     "output_type": "execute_result"
    },
    {
     "data": {
      "image/png": "[encoded data removed]",
      "text/plain": [
       "<Figure size 432x288 with 1 Axes>"
      ]
     },
     "metadata": {
      "needs_background": "light"
     },
     "output_type": "display_data"
    }
   ],
   "source": [
    "import matplotlib.pyplot as plt\n",
    "%matplotlib inline\n",
    "\n",
    "plt.plot(all_losses)"
   ]
  },
  {
   "cell_type": "code",
   "execution_count": 17,
   "metadata": {},
   "outputs": [],
   "source": [
    "max_length = 20\n",
    "\n",
    "# generate given category and starting letter\n",
    "def generate_name(category,start_char='A',temp=0.5):\n",
    "    category_input = make_category_input(category)\n",
    "    chars_input = make_char_input(start_char)\n",
    "    hidden = rnn.init_hidden()\n",
    "    \n",
    "    output_str = start_char\n",
    "    \n",
    "    for i in range(max_length):\n",
    "        output, hidden = rnn(category_input,chars_input[0],hidden)\n",
    "        \n",
    "        # sample as a multinomial distribution\n",
    "        output_dist = output.data.view(-1).div(temp).exp()\n",
    "        top_i = torch.multinomial(output_dist,1)[0]\n",
    "        \n",
    "        # stop at EOS\n",
    "        if top_i == EOS:\n",
    "            break\n",
    "        else:\n",
    "            char = all_letters[top_i]\n",
    "            output_str += char\n",
    "            chars_input = make_char_input(char)\n",
    "            \n",
    "    return output_str\n",
    "\n",
    "# get multiple samples from one category and multiple starting letters\n",
    "def generate(category,start_chars='ABC'):\n",
    "    for start_char in start_chars:\n",
    "        print(generate_name(category,start_char))"
   ]
  },
  {
   "cell_type": "code",
   "execution_count": 18,
   "metadata": {},
   "outputs": [
    {
     "name": "stdout",
     "output_type": "stream",
     "text": [
      "Rosthin\n",
      "Urtskh\n",
      "Shankh\n"
     ]
    }
   ],
   "source": [
    "generate('Russian','RUS')"
   ]
  },
  {
   "cell_type": "code",
   "execution_count": 20,
   "metadata": {},
   "outputs": [
    {
     "name": "stdout",
     "output_type": "stream",
     "text": [
      "Malah\n",
      "Abarg\n",
      "Dase\n"
     ]
    }
   ],
   "source": [
    "generate('Arabic','MAD')"
   ]
  },
  {
   "cell_type": "code",
   "execution_count": null,
   "metadata": {},
   "outputs": [],
   "source": []
  }
 ],
 "metadata": {
  "kernelspec": {
   "display_name": "Python 3",
   "language": "python",
   "name": "python3"
  },
  "language_info": {
   "codemirror_mode": {
    "name": "ipython",
    "version": 3
   },
   "file_extension": ".py",
   "mimetype": "text/x-python",
   "name": "python",
   "nbconvert_exporter": "python",
   "pygments_lexer": "ipython3",
   "version": "3.7.4"
  }
 },
 "nbformat": 4,
 "nbformat_minor": 4
}
