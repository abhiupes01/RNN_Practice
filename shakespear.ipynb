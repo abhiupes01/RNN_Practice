{
 "cells": [
  {
   "cell_type": "code",
   "execution_count": 2,
   "metadata": {},
   "outputs": [
    {
     "name": "stdout",
     "output_type": "stream",
     "text": [
      "file lenght = 1115393\n"
     ]
    }
   ],
   "source": [
    "import unidecode\n",
    "import string\n",
    "import random\n",
    "import re\n",
    "\n",
    "all_character = string.printable\n",
    "n_characters = len(all_character)\n",
    "\n",
    "file = unidecode.unidecode(open(r'C:\\Users\\Syahrir Ridha\\pytorch\\recurrent\\data\\shakespear\\shakespear.txt').read())\n",
    "file_len = len(file)\n",
    "print('file lenght = {}'.format(file_len))"
   ]
  },
  {
   "cell_type": "code",
   "execution_count": 8,
   "metadata": {},
   "outputs": [
    {
     "name": "stdout",
     "output_type": "stream",
     "text": [
      "he mind too, 'mongst all colours\n",
      "No yellow in't, lest she suspect, as he does,\n",
      "Her children not her husband's!\n",
      "\n",
      "LEONTES:\n",
      "A gross hag\n",
      "And, lozel, thou art worthy to be hang'd,\n",
      "That wilt not stay her ton\n"
     ]
    }
   ],
   "source": [
    "chunk_len = 200\n",
    "\n",
    "def random_chunk():\n",
    "    start_index = random.randint(0,file_len-chunk_len)\n",
    "    end_index =start_index+chunk_len+1\n",
    "    return file[start_index:end_index]\n",
    "\n",
    "print(random_chunk())"
   ]
  },
  {
   "cell_type": "code",
   "execution_count": 24,
   "metadata": {},
   "outputs": [],
   "source": [
    "# Build the RNN model\n",
    "import torch\n",
    "import torch.nn as nn\n",
    "from torch.autograd import Variable\n",
    "\n",
    "class RNN(nn.Module):\n",
    "    def __init__(self,in_dim, hid_dim, out_dim, n_layer):\n",
    "        super(RNN,self).__init__()\n",
    "        self.input_size = in_dim\n",
    "        self.hidden_size = hid_dim\n",
    "        self.output_size = out_dim\n",
    "        self.layers = n_layer\n",
    "        \n",
    "        self.encoder = nn.Embedding(in_dim,hid_dim)\n",
    "        self.gru = nn.GRU(hid_dim, hid_dim, n_layer)\n",
    "        self.decoder = nn.Linear(hid_dim,out_dim)\n",
    "        \n",
    "    def forward(self,x,hidden):\n",
    "        output = self.encoder(x.view(1,-1))\n",
    "        output, hidden = self.gru(output.view(1,1,-1),hidden)\n",
    "        output = self.decoder(output.view(1,-1))\n",
    "        return output,hidden\n",
    "    \n",
    "    def init_hidden(self):\n",
    "        return Variable(torch.zeros(self.layers,1,self.hidden_size))"
   ]
  },
  {
   "cell_type": "code",
   "execution_count": 45,
   "metadata": {},
   "outputs": [
    {
     "name": "stdout",
     "output_type": "stream",
     "text": [
      "tensor([[36],\n",
      "        [11],\n",
      "        [17],\n",
      "        [18],\n",
      "        [28],\n",
      "        [17],\n",
      "        [14],\n",
      "        [20]])\n"
     ]
    }
   ],
   "source": [
    "# turn strings into list of longs\n",
    "def char_tensor(string):\n",
    "    tensor = torch.zeros(len(string)).long()\n",
    "    for c in range(len(string)):\n",
    "        tensor[c] = all_character.index(string[c])\n",
    "    return Variable(tensor).view(-1,1)\n",
    "\n",
    "print(char_tensor('Abhishek'))"
   ]
  },
  {
   "cell_type": "code",
   "execution_count": 47,
   "metadata": {},
   "outputs": [],
   "source": [
    "def random_train_set():\n",
    "    chunk = random_chunk()\n",
    "    inp = char_tensor(chunk[:-1])\n",
    "    target = char_tensor(chunk[1:])\n",
    "    return inp, target"
   ]
  },
  {
   "cell_type": "code",
   "execution_count": 69,
   "metadata": {},
   "outputs": [
    {
     "data": {
      "text/plain": [
       "(torch.Size([200, 1]), torch.Size([200, 1]))"
      ]
     },
     "execution_count": 69,
     "metadata": {},
     "output_type": "execute_result"
    }
   ],
   "source": [
    "random_train_set()[0].shape, random_train_set()[1].shape"
   ]
  },
  {
   "cell_type": "code",
   "execution_count": 63,
   "metadata": {},
   "outputs": [],
   "source": [
    "def evaluate(prime_str = 'A', predict_len=100, temperature=0.8):\n",
    "    hidden = decoder.init_hidden()\n",
    "    prime_input = char_tensor(prime_str)\n",
    "    predicted = prime_str\n",
    "    \n",
    "    # use primimg string to build up the hidden state\n",
    "    for p in range(len(prime_str)-1):\n",
    "        _, hidden = decoder(prime_input[p],hidden)\n",
    "    inp = prime_input[-1]\n",
    "    \n",
    "    for p in range(predict_len):\n",
    "        output, hidden = decoder(inp,hidden)\n",
    "        \n",
    "        \n",
    "        # sample from the network as a multinomial distribution\n",
    "        output_dist = output.data.view(-1).div(temperature).exp()\n",
    "        top_i = torch.multinomial(output_dist,1)[0]\n",
    "        \n",
    "        # add predicted charactrer to string and use as next input\n",
    "        predicted_char = all_character[top_i]\n",
    "        predicted += predicted_char\n",
    "        inp = char_tensor(predicted_char)\n",
    "    \n",
    "    return predicted"
   ]
  },
  {
   "cell_type": "code",
   "execution_count": 64,
   "metadata": {},
   "outputs": [],
   "source": [
    "import time, math\n",
    "\n",
    "def time_since(since):\n",
    "    s = time.time()-since\n",
    "    m = math.floor(s/60)\n",
    "    s -= m*60\n",
    "    return '%dm %ds'%(m,s)"
   ]
  },
  {
   "cell_type": "code",
   "execution_count": 65,
   "metadata": {},
   "outputs": [],
   "source": [
    "def train(inp,target):\n",
    "    hidden = decoder.init_hidden()\n",
    "    decoder.zero_grad()\n",
    "    loss = 0\n",
    "    \n",
    "    for c in range(chunk_len):\n",
    "        output, hidden = decoder(inp[c],hidden)\n",
    "        loss += criterion(output,target[c])\n",
    "        \n",
    "    loss.backward()\n",
    "    decoder_optimizer.step()\n",
    "    \n",
    "    return loss.item()/chunk_len"
   ]
  },
  {
   "cell_type": "code",
   "execution_count": 66,
   "metadata": {},
   "outputs": [
    {
     "name": "stdout",
     "output_type": "stream",
     "text": [
      "[0m 27s (100 5%) 2.1407]\n",
      "Whide, dove sour seik and whe leacr perout muule, she and,\n",
      "The soo! forsot thake not meshesdist, ad?\n",
      "\n",
      " \n",
      "\n",
      "[0m 55s (200 10%) 2.1136]\n",
      "Whost and thir-orthe the be! I hald the rase man mand\n",
      "Ang and with cardes forriarte botherss you the V \n",
      "\n",
      "[1m 23s (300 15%) 1.8559]\n",
      "Wh gageser I withen.\n",
      "\n",
      "BANRD T{ORK:\n",
      "All ous onfer the reith there reak fait the is hesled at at late!\n",
      "O \n",
      "\n",
      "[1m 52s (400 20%) 2.0535]\n",
      "Wh your thee mack not I not, cond math on are litiet that mave licemigel to me is hear hy love bok dea \n",
      "\n",
      "[2m 20s (500 25%) 1.8206]\n",
      "Why, chirll eaduntuny is the the the in the andaly here, his chichise cour the be in day thing the thi \n",
      "\n",
      "[2m 49s (600 30%) 2.1264]\n",
      "Whing why falick and the not set whill I wor wars\n",
      "Here not with have a tin\n",
      "\n",
      "HARD ENRY TICENILA:\n",
      "You wi \n",
      "\n",
      "[3m 17s (700 35%) 1.8735]\n",
      "What him:\n",
      "Were the to the to the wours it to thind their leasther measterself.\n",
      "\n",
      "CLORETER:\n",
      "Both thigh I \n",
      "\n",
      "[3m 45s (800 40%) 1.9433]\n",
      "Why brother say him: was lider,\n",
      "Ad alloof and by yis be not?\n",
      "Thich am to let will ald for lexer God?\n",
      "\n",
      " \n",
      "\n",
      "[4m 13s (900 45%) 2.0363]\n",
      "Wh'-Your with o to estroust by;\n",
      "As by Lorsed more we for the more dentratt me deat my her he deartry,\n",
      " \n",
      "\n",
      "[4m 41s (1000 50%) 1.9353]\n",
      "Wh'rd shere not me, that fare,\n",
      "Elor after betwer.\n",
      "\n",
      "KING EDWARM:\n",
      "What brace all my borden on cane?\n",
      "\n",
      "MEN \n",
      "\n",
      "[5m 9s (1100 55%) 1.6541]\n",
      "Wh.\n",
      "\n",
      "LAnINGHAND:\n",
      "But that than thee lone he the dowe,\n",
      "That me the be the rampost thou shall hell aldin \n",
      "\n",
      "[5m 37s (1200 60%) 1.8670]\n",
      "Where but prood from but at unto come\n",
      "Have it or thou his here and\n",
      "Which cony so his stay;\n",
      "And father  \n",
      "\n",
      "[6m 5s (1300 65%) 1.9185]\n",
      "WhARE:\n",
      "This be rick, and stuch's take; thou the got you would time nend\n",
      "With all they good the dit and \n",
      "\n",
      "[6m 33s (1400 70%) 1.8344]\n",
      "Which well it me the were so words\n",
      "Wear, changely by\n",
      "And shous to straw.\n",
      "\n",
      "KING RICHARD:\n",
      "You we sarn co \n",
      "\n",
      "[7m 1s (1500 75%) 2.0591]\n",
      "Whsher the oor of the priperfurs of mady;\n",
      "A' like bease to for you.\n",
      "Nor worther to seard the not pardy \n",
      "\n",
      "[7m 29s (1600 80%) 1.9066]\n",
      "Where, I and hy done case of Yor, of sain\n",
      "The lieftle make he do,\n",
      "All, us that sint no you and cont,\n",
      "I \n",
      "\n",
      "[7m 58s (1700 85%) 1.9904]\n",
      "Whet of cit that the pratter asforness, agemor.\n",
      "\n",
      "TRANIO:\n",
      "O well you city one sude\n",
      "That and seet us fir \n",
      "\n",
      "[8m 27s (1800 90%) 1.7258]\n",
      "Whind Console's I sir.\n",
      "\n",
      "ELWICHARD:\n",
      "The scart will back crow with doo dleave:\n",
      "The nur did fring the com \n",
      "\n",
      "[8m 55s (1900 95%) 1.9388]\n",
      "Why, yould this she farder.\n",
      "\n",
      "MENENIUS:\n",
      "I saw life my trunce down corse, but\n",
      "Rompmen with and it pen on \n",
      "\n",
      "[9m 23s (2000 100%) 2.0159]\n",
      "Wher the must for I troucess:\n",
      "'Te hast off my trou hend!\n",
      "The groms me commold my frong's not hou make. \n",
      "\n"
     ]
    }
   ],
   "source": [
    "# define model variables\n",
    "n_epochs = 2000\n",
    "print_every = 100\n",
    "plot_every = 10\n",
    "hidden_size = 100\n",
    "n_layers = 1\n",
    "lr = 0.005\n",
    "\n",
    "decoder = RNN(n_characters,hidden_size,n_characters,n_layers)\n",
    "decoder_optimizer = torch.optim.Adam(decoder.parameters(),lr=lr)\n",
    "criterion = nn.CrossEntropyLoss()\n",
    "\n",
    "start = time.time()\n",
    "all_loss = []\n",
    "loss_avg = 0\n",
    "\n",
    "for epoch in range(1,n_epochs+1):\n",
    "    loss = train(*random_train_set())\n",
    "    loss_avg += loss\n",
    "    \n",
    "    if epoch % print_every==0:\n",
    "        print('[%s (%d %d%%) %.4f]'%(time_since(start),epoch,epoch/n_epochs*100,loss))\n",
    "        print(evaluate('Wh',100),'\\n')\n",
    "        \n",
    "    if epoch % plot_every ==0:\n",
    "        all_loss.append(loss_avg/plot_every)\n",
    "        loss_avg = 0"
   ]
  },
  {
   "cell_type": "code",
   "execution_count": 70,
   "metadata": {},
   "outputs": [
    {
     "data": {
      "text/plain": [
       "[<matplotlib.lines.Line2D at 0x19d032c5a08>]"
      ]
     },
     "execution_count": 70,
     "metadata": {},
     "output_type": "execute_result"
    },
    {
     "data": {
      "image/png": "[encoded data removed]",
      "text/plain": [
       "<Figure size 432x288 with 1 Axes>"
      ]
     },
     "metadata": {
      "needs_background": "light"
     },
     "output_type": "display_data"
    }
   ],
   "source": [
    "import matplotlib.pyplot as plt\n",
    "%matplotlib inline\n",
    "plt.plot(all_loss)"
   ]
  },
  {
   "cell_type": "code",
   "execution_count": null,
   "metadata": {},
   "outputs": [],
   "source": []
  }
 ],
 "metadata": {
  "kernelspec": {
   "display_name": "Python 3",
   "language": "python",
   "name": "python3"
  },
  "language_info": {
   "codemirror_mode": {
    "name": "ipython",
    "version": 3
   },
   "file_extension": ".py",
   "mimetype": "text/x-python",
   "name": "python",
   "nbconvert_exporter": "python",
   "pygments_lexer": "ipython3",
   "version": "3.7.4"
  }
 },
 "nbformat": 4,
 "nbformat_minor": 4
}
