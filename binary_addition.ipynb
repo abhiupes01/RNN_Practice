{
 "cells": [
  {
   "cell_type": "code",
   "execution_count": null,
   "metadata": {},
   "outputs": [],
   "source": [
    "# The notebook aims to implement the procedure for training a RNN to teach addition of 2 Numbers in binary format"
   ]
  },
  {
   "cell_type": "code",
   "execution_count": 2,
   "metadata": {},
   "outputs": [],
   "source": [
    "import numpy as np\n",
    "import matplotlib.pyplot as plt\n",
    "%matplotlib inline\n",
    "import torch\n",
    "import torch.autograd as grad\n",
    "import torch.nn as nn\n",
    "import torch.optim as optim\n",
    "import torch.nn.functional as Func\n",
    "from torch.autograd import Variable\n",
    "np.random.seed(seed=42)\n",
    "from numpy import random"
   ]
  },
  {
   "cell_type": "code",
   "execution_count": 3,
   "metadata": {},
   "outputs": [],
   "source": [
    "no_train = 2000\n",
    "seq_len = 7"
   ]
  },
  {
   "cell_type": "code",
   "execution_count": 4,
   "metadata": {},
   "outputs": [],
   "source": [
    "def create_train_data(no_train_data, seq_len):\n",
    "    max_int = 2**(seq_len-1)\n",
    "    \n",
    "    format_str = '{:0' + str(seq_len) + 'b}'\n",
    "    nb_inputs = 2\n",
    "    nb_output = 1\n",
    "    \n",
    "    x = np.zeros((no_train_data,seq_len,nb_inputs))\n",
    "    y = np.zeros((no_train_data,seq_len,nb_output))\n",
    "    \n",
    "    for i in range(no_train_data):\n",
    "        nb1 = np.random.randint(0,max_int)\n",
    "        nb2 = np.random.randint(0,max_int)\n",
    "        \n",
    "        x[i,:,0] = list(reversed([int(b) for b in format_str.format(nb1)]))\n",
    "        x[i,:,1] = list(reversed([int(b) for b in format_str.format(nb2)]))\n",
    "        y[i,:,0] = list(reversed([int(b) for b in format_str.format(nb1+nb2)]))\n",
    "        \n",
    "    return x,y"
   ]
  },
  {
   "cell_type": "code",
   "execution_count": 5,
   "metadata": {},
   "outputs": [],
   "source": [
    "x_train, y_train = create_train_data(2000,7)"
   ]
  },
  {
   "cell_type": "code",
   "execution_count": 6,
   "metadata": {},
   "outputs": [
    {
     "data": {
      "text/plain": [
       "(2000, 7, 2)"
      ]
     },
     "execution_count": 6,
     "metadata": {},
     "output_type": "execute_result"
    }
   ],
   "source": [
    "x_train.shape"
   ]
  },
  {
   "cell_type": "code",
   "execution_count": 7,
   "metadata": {},
   "outputs": [],
   "source": [
    "x_test = ''.join([str(int(d)) for d in x_train[0,:,0]])"
   ]
  },
  {
   "cell_type": "code",
   "execution_count": 8,
   "metadata": {},
   "outputs": [
    {
     "data": {
      "text/plain": [
       "38"
      ]
     },
     "execution_count": 8,
     "metadata": {},
     "output_type": "execute_result"
    }
   ],
   "source": [
    "int(''.join(reversed(x_test)),2)"
   ]
  },
  {
   "cell_type": "code",
   "execution_count": 9,
   "metadata": {},
   "outputs": [],
   "source": [
    "class Recurrent(nn.Module):\n",
    "    def __init__(self,in_dim, hid_dim, out_dim, n_layer):\n",
    "        super(Recurrent,self).__init__()\n",
    "        \n",
    "        self.in_dim , self.hid_dim, self.out_dim, self.layer = in_dim, hid_dim, out_dim, n_layer\n",
    "        \n",
    "        self.rnn = nn.RNN(in_dim, hid_dim, n_layer, batch_first=True, nonlinearity='relu')\n",
    "        self.linear = nn.Linear(hid_dim, out_dim)\n",
    "        self.sigmoid = nn.Sigmoid()\n",
    "        \n",
    "    def forward(self,x):\n",
    "        \n",
    "        # define the batch size\n",
    "        batch_size = x.size(0)\n",
    "        \n",
    "        # initialize the hidden layer for the first input\n",
    "        hidden = self.init_hidden(batch_size)\n",
    "        \n",
    "        # passing in th einput and hidden state into model to get output\n",
    "        out, hidden = self.rnn(x,hidden)\n",
    "\n",
    "        \n",
    "        # reshaping the putput to fit into fully connected layers\n",
    "        out = out.contiguous()\n",
    "        out = self.linear(out)\n",
    "        out = self.sigmoid(out)\n",
    "        \n",
    "        return out, hidden\n",
    "    \n",
    "    def init_hidden(self,batch_size):\n",
    "        return torch.zeros(self.layer,batch_size,self.hid_dim)"
   ]
  },
  {
   "cell_type": "code",
   "execution_count": null,
   "metadata": {},
   "outputs": [],
   "source": []
  },
  {
   "cell_type": "code",
   "execution_count": 10,
   "metadata": {},
   "outputs": [],
   "source": [
    "# RNN varibales\n",
    "in_dim = 2\n",
    "hid_dim = 10\n",
    "out_dim = 1\n",
    "layers = 1\n",
    "\n",
    "# define the model\n",
    "rnn_model = Recurrent(in_dim,hid_dim,out_dim,layers)\n",
    "\n",
    "loss_func = nn.MSELoss()\n",
    "learn_rate = 0.01\n",
    "optimizer = torch.optim.Adam(rnn_model.parameters(),lr=learn_rate)"
   ]
  },
  {
   "cell_type": "code",
   "execution_count": 11,
   "metadata": {},
   "outputs": [],
   "source": [
    "x_train, y_train = torch.from_numpy(x_train).float(), torch.from_numpy(y_train).float()"
   ]
  },
  {
   "cell_type": "code",
   "execution_count": 12,
   "metadata": {},
   "outputs": [],
   "source": [
    "# pred = rnn_model(Variable(x_train[np.random.choice(2000, 1),:,:]))[0]\n"
   ]
  },
  {
   "cell_type": "code",
   "execution_count": 13,
   "metadata": {},
   "outputs": [],
   "source": [
    "#loss_func(pred,y_train)"
   ]
  },
  {
   "cell_type": "code",
   "execution_count": 14,
   "metadata": {},
   "outputs": [],
   "source": [
    "def RNN_train(epochs):\n",
    "    \n",
    "    for epoch in range(epochs):\n",
    "        \n",
    "        loss = 0\n",
    "        # choose a random point\n",
    "        point = np.random.choice(x_train.shape[0],1)\n",
    "        \n",
    "        # convert the train and test data into variables\n",
    "        x,y = Variable(x_train[point,:,:]), y_train[point,:,:]\n",
    "#         print(x.shape)\n",
    "        #print(y.shape)\n",
    "        \n",
    "        # set the gradient of the model to zero\n",
    "        rnn_model.zero_grad()\n",
    "        \n",
    "        # predict the output\n",
    "        output,hidden = rnn_model(x)\n",
    "        #print(output[0].shape)\n",
    "        \n",
    "        # calculate the loss\n",
    "        loss = loss_func(output,y)\n",
    "        \n",
    "        \n",
    "        loss.backward()\n",
    "        \n",
    "        optimizer.step()\n",
    "        \n",
    "        optimizer.zero_grad()\n",
    "        \n",
    "        loss_list.append(loss.data)\n",
    "        \n",
    "        loss += loss\n",
    "        \n",
    "        if epoch %100 ==0:\n",
    "            print('Epoch :{}    Loss :{}'.format(epoch,loss/epoch))"
   ]
  },
  {
   "cell_type": "code",
   "execution_count": 15,
   "metadata": {},
   "outputs": [
    {
     "name": "stdout",
     "output_type": "stream",
     "text": [
      "Epoch :0    Loss :inf\n",
      "Epoch :100    Loss :0.005042221397161484\n",
      "Epoch :200    Loss :0.0017301571788266301\n",
      "Epoch :300    Loss :0.0012416396057233214\n",
      "Epoch :400    Loss :0.0003893266257364303\n",
      "Epoch :500    Loss :0.0007003377540968359\n",
      "Epoch :600    Loss :0.00044703681487590075\n",
      "Epoch :700    Loss :0.0007622572593390942\n",
      "Epoch :800    Loss :0.00016713107470422983\n",
      "Epoch :900    Loss :7.174230177042773e-06\n",
      "Epoch :1000    Loss :0.00018410527263768017\n",
      "Epoch :1100    Loss :2.2073569198255427e-05\n",
      "Epoch :1200    Loss :1.4925373761798255e-05\n",
      "Epoch :1300    Loss :2.079520527331624e-06\n",
      "Epoch :1400    Loss :7.828770662854367e-07\n",
      "Epoch :1500    Loss :2.9669987270608544e-05\n",
      "Epoch :1600    Loss :4.591920969687635e-06\n",
      "Epoch :1700    Loss :1.6732770745875314e-05\n",
      "Epoch :1800    Loss :1.2294099178689066e-05\n",
      "Epoch :1900    Loss :1.8242560884118575e-07\n",
      "Epoch :2000    Loss :6.431493602576666e-06\n",
      "Epoch :2100    Loss :3.4325594242545776e-06\n",
      "Epoch :2200    Loss :1.3748418723480427e-06\n",
      "Epoch :2300    Loss :3.1019633297546534e-06\n",
      "Epoch :2400    Loss :3.689295908770873e-06\n",
      "Epoch :2500    Loss :1.1819614883279428e-05\n",
      "Epoch :2600    Loss :0.0001530103327240795\n",
      "Epoch :2700    Loss :9.296788903156994e-07\n",
      "Epoch :2800    Loss :2.516869699320523e-06\n",
      "Epoch :2900    Loss :3.503321579501062e-07\n",
      "Epoch :3000    Loss :8.45022363193948e-09\n",
      "Epoch :3100    Loss :7.572143658762798e-07\n",
      "Epoch :3200    Loss :6.957531013540574e-07\n",
      "Epoch :3300    Loss :4.0972696524477215e-07\n",
      "Epoch :3400    Loss :1.1377009556667872e-08\n",
      "Epoch :3500    Loss :4.405361266890395e-07\n",
      "Epoch :3600    Loss :5.63714991130837e-07\n",
      "Epoch :3700    Loss :2.911161232077575e-07\n",
      "Epoch :3800    Loss :3.661036487301317e-07\n",
      "Epoch :3900    Loss :3.840726208181877e-07\n",
      "Epoch :4000    Loss :5.798876827611821e-07\n",
      "Epoch :4100    Loss :2.2003769117873162e-07\n",
      "Epoch :4200    Loss :4.0437646475766087e-07\n",
      "Epoch :4300    Loss :7.305067217799888e-09\n",
      "Epoch :4400    Loss :2.3909413471301377e-07\n",
      "Epoch :4500    Loss :1.9070436962920212e-07\n",
      "Epoch :4600    Loss :2.92455808903469e-07\n",
      "Epoch :4700    Loss :1.5312332379835425e-07\n",
      "Epoch :4800    Loss :2.394495446367273e-08\n",
      "Epoch :4900    Loss :1.5169081546417829e-09\n",
      "Epoch :5000    Loss :3.587110484204459e-07\n",
      "Epoch :5100    Loss :2.3310597896397667e-07\n",
      "Epoch :5200    Loss :7.696844050997242e-08\n",
      "Epoch :5300    Loss :1.7066716040403662e-08\n",
      "Epoch :5400    Loss :4.375972650905169e-08\n",
      "Epoch :5500    Loss :1.1198660843092512e-07\n",
      "Epoch :5600    Loss :7.118320866084105e-08\n",
      "Epoch :5700    Loss :4.9553172232208453e-08\n",
      "Epoch :5800    Loss :3.874013287941125e-08\n",
      "Epoch :5900    Loss :8.309300625342075e-08\n",
      "Epoch :6000    Loss :5.1439020154475656e-08\n",
      "Epoch :6100    Loss :8.39486613557483e-09\n",
      "Epoch :6200    Loss :4.284922638930766e-08\n",
      "Epoch :6300    Loss :1.4938853487578285e-09\n",
      "Epoch :6400    Loss :3.9006202712243976e-08\n",
      "Epoch :6500    Loss :6.676250308146336e-08\n",
      "Epoch :6600    Loss :3.810090021261203e-09\n",
      "Epoch :6700    Loss :6.8472840730748885e-09\n",
      "Epoch :6800    Loss :4.974739908902848e-08\n",
      "Epoch :6900    Loss :1.4726423414046508e-09\n",
      "Epoch :7000    Loss :2.99754567834043e-08\n",
      "Epoch :7100    Loss :5.066986705060117e-05\n",
      "Epoch :7200    Loss :2.651719296409283e-05\n",
      "Epoch :7300    Loss :5.569090149037947e-07\n",
      "Epoch :7400    Loss :8.364252721548837e-07\n",
      "Epoch :7500    Loss :8.757562000027974e-07\n",
      "Epoch :7600    Loss :6.283361386749675e-09\n",
      "Epoch :7700    Loss :8.082136737641576e-09\n",
      "Epoch :7800    Loss :1.1373683150850411e-07\n",
      "Epoch :7900    Loss :6.319592671388818e-07\n",
      "Epoch :8000    Loss :1.1327236393299245e-07\n",
      "Epoch :8100    Loss :9.955682571671787e-07\n",
      "Epoch :8200    Loss :1.2072322874701058e-07\n",
      "Epoch :8300    Loss :1.6094463717308827e-07\n",
      "Epoch :8400    Loss :1.285437036813164e-07\n",
      "Epoch :8500    Loss :6.063280579837738e-07\n",
      "Epoch :8600    Loss :2.660440479029802e-10\n",
      "Epoch :8700    Loss :3.899007197105675e-07\n",
      "Epoch :8800    Loss :2.453359293497215e-09\n",
      "Epoch :8900    Loss :7.860024453520964e-08\n",
      "Epoch :9000    Loss :7.303385984869237e-08\n",
      "Epoch :9100    Loss :9.622258545505247e-09\n",
      "Epoch :9200    Loss :2.6023249333206877e-08\n",
      "Epoch :9300    Loss :8.68195826342344e-09\n",
      "Epoch :9400    Loss :2.7970035176849706e-08\n",
      "Epoch :9500    Loss :5.377610179380099e-08\n",
      "Epoch :9600    Loss :1.4335707065882275e-09\n",
      "Epoch :9700    Loss :8.902057979653932e-10\n",
      "Epoch :9800    Loss :3.376161927803878e-08\n",
      "Epoch :9900    Loss :1.9059879008409553e-08\n"
     ]
    }
   ],
   "source": [
    "loss_list = []\n",
    "RNN_train(10000)"
   ]
  },
  {
   "cell_type": "code",
   "execution_count": 16,
   "metadata": {},
   "outputs": [
    {
     "data": {
      "text/plain": [
       "[<matplotlib.lines.Line2D at 0x1dd126d6988>]"
      ]
     },
     "execution_count": 16,
     "metadata": {},
     "output_type": "execute_result"
    },
    {
     "data": {
      "image/png": "[encoded data removed]",
      "text/plain": [
       "<Figure size 432x288 with 1 Axes>"
      ]
     },
     "metadata": {
      "needs_background": "light"
     },
     "output_type": "display_data"
    }
   ],
   "source": [
    "plt.plot(loss_list)"
   ]
  },
  {
   "cell_type": "code",
   "execution_count": 48,
   "metadata": {},
   "outputs": [
    {
     "name": "stdout",
     "output_type": "stream",
     "text": [
      "Predicted Output is \n",
      " [0. 0. 1. 1. 0. 0. 1.]\n",
      "Actual Output is \n",
      " [0. 0. 1. 1. 0. 0. 1.]\n",
      "#################################\n",
      "Predicted Output is \n",
      " [1. 1. 0. 1. 1. 1. 0.]\n",
      "Actual Output is \n",
      " [1. 1. 0. 1. 1. 1. 0.]\n",
      "#################################\n",
      "Predicted Output is \n",
      " [1. 1. 0. 0. 0. 1. 1.]\n",
      "Actual Output is \n",
      " [1. 1. 0. 0. 0. 1. 1.]\n",
      "#################################\n",
      "Predicted Output is \n",
      " [1. 1. 0. 1. 0. 1. 0.]\n",
      "Actual Output is \n",
      " [1. 1. 0. 1. 0. 1. 0.]\n",
      "#################################\n",
      "Predicted Output is \n",
      " [1. 0. 0. 1. 1. 1. 0.]\n",
      "Actual Output is \n",
      " [1. 0. 0. 1. 1. 1. 0.]\n",
      "#################################\n",
      "Predicted Output is \n",
      " [1. 0. 1. 0. 1. 0. 1.]\n",
      "Actual Output is \n",
      " [1. 0. 1. 0. 1. 0. 1.]\n",
      "#################################\n",
      "Predicted Output is \n",
      " [1. 1. 1. 1. 0. 0. 1.]\n",
      "Actual Output is \n",
      " [1. 1. 1. 1. 0. 0. 1.]\n",
      "#################################\n",
      "Predicted Output is \n",
      " [0. 1. 1. 1. 0. 0. 1.]\n",
      "Actual Output is \n",
      " [0. 1. 1. 1. 0. 0. 1.]\n",
      "#################################\n",
      "Predicted Output is \n",
      " [0. 0. 0. 1. 1. 0. 1.]\n",
      "Actual Output is \n",
      " [0. 0. 0. 1. 1. 0. 1.]\n",
      "#################################\n",
      "Predicted Output is \n",
      " [0. 1. 1. 1. 0. 0. 1.]\n",
      "Actual Output is \n",
      " [0. 1. 1. 1. 0. 0. 1.]\n",
      "#################################\n"
     ]
    }
   ],
   "source": [
    "# check the accuracy of the training RNN\n",
    "for i in range(10):\n",
    "    # choose a random point\n",
    "    point = np.random.choice(x_train.shape[0],1)\n",
    "        \n",
    "    # convert the train and test data into variables\n",
    "    x,y = Variable(x_train[point,:,:]), y_train[point,:,:]\n",
    "    output,hidden = rnn_model(x)\n",
    "    print('Predicted Output is \\n {}'.format((output.gt(0.5)[0]*1.).flatten().numpy()))\n",
    "    print('Actual Output is \\n {}'.format(y.numpy().ravel()))\n",
    "    print('#################################')"
   ]
  },
  {
   "cell_type": "code",
   "execution_count": null,
   "metadata": {},
   "outputs": [],
   "source": []
  }
 ],
 "metadata": {
  "kernelspec": {
   "display_name": "Python 3",
   "language": "python",
   "name": "python3"
  },
  "language_info": {
   "codemirror_mode": {
    "name": "ipython",
    "version": 3
   },
   "file_extension": ".py",
   "mimetype": "text/x-python",
   "name": "python",
   "nbconvert_exporter": "python",
   "pygments_lexer": "ipython3",
   "version": "3.7.4"
  }
 },
 "nbformat": 4,
 "nbformat_minor": 4
}
